{
 "cells": [
  {
   "cell_type": "code",
   "execution_count": 11,
   "id": "62429908",
   "metadata": {},
   "outputs": [],
   "source": [
    "import numpy as np\n",
    "import cv2\n",
    "import os\n",
    "import matplotlib.pyplot as plt\n",
    "\n"
   ]
  },
  {
   "cell_type": "code",
   "execution_count": 12,
   "id": "7fdc7883",
   "metadata": {},
   "outputs": [],
   "source": [
    "# sciezki do plikow \n",
    "\n",
    "Data_dir = \"C:/Users/kubol/DesLab/DesLab/get_training_images/get_training_images/training_images\"\n",
    "Categories = ['up', 'down']\n",
    "\n",
    "for category in Categories:\n",
    "    path = os.path.join(Data_dir, category) # sciezka do up lub down\n",
    "    for img in os.listdir(path): #zamieniamy wszystko na array i na czarno-biale (gdy kolor nie jest wazny)\n",
    "        img_array = cv2.imread(os.path.join(path,img), cv2.IMREAD_GRAYSCALE)\n",
    "        #plt.imshow(img_array, cmap=\"gray\")\n",
    "        plt.show()\n",
    "        break\n",
    "    break\n"
   ]
  },
  {
   "cell_type": "code",
   "execution_count": 13,
   "id": "a834d0a3",
   "metadata": {},
   "outputs": [
    {
     "name": "stdout",
     "output_type": "stream",
     "text": [
      "(720, 1280)\n",
      "(130, 130)\n"
     ]
    },
    {
     "data": {
      "text/plain": [
       "<Figure size 432x288 with 1 Axes>"
      ]
     },
     "metadata": {
      "needs_background": "light"
     },
     "output_type": "display_data"
    }
   ],
   "source": [
    "print(img_array.shape)\n",
    "\n",
    "#u nas aktualnie mamy wszystkie zdjecia do nauczania 350 na 350 //////JUZ NIE!\n",
    "# \n",
    "#ALE\n",
    "#gdybysmy nauczali siec, zdjeciami o roznych rozmiarach, trzeba\n",
    "#je wszystkie zmienic na ten sam rozmiar np. 110 na 110\n",
    "\n",
    "IMG_SIZE = 130\n",
    "\n",
    "\n",
    "resized_array = cv2.resize(img_array, (IMG_SIZE, IMG_SIZE))\n",
    "plt.imshow(resized_array, cmap=\"gray\")\n",
    "\n",
    "print(resized_array.shape)"
   ]
  },
  {
   "cell_type": "code",
   "execution_count": 14,
   "id": "9bebb957",
   "metadata": {},
   "outputs": [],
   "source": [
    "training_data = []\n",
    "\n",
    "def create_training_data():\n",
    "\n",
    "    for category in Categories:\n",
    "        path = os.path.join(Data_dir, category) # sciezka do up lub down\n",
    "        class_num = Categories.index(category) #tworzymy numerki do tego co klasyfikujemy\n",
    "        for img in os.listdir(path): #zamieniamy wszystko na array i na czarno-biale (gdy kolor nie jest wazny)\n",
    "            try:\n",
    "                img_array = cv2.imread(os.path.join(path,img), cv2.IMREAD_GRAYSCALE)\n",
    "                resized_array = cv2.resize(img_array, (IMG_SIZE, IMG_SIZE)) #zamieniamy od razu na rozmiar 75x75\n",
    "                training_data.append([resized_array, class_num])\n",
    "            except Exception as e:\n",
    "                pass\n",
    "            \n",
    "create_training_data()\n",
    "    "
   ]
  },
  {
   "cell_type": "code",
   "execution_count": 15,
   "id": "da4ca7e8",
   "metadata": {},
   "outputs": [
    {
     "name": "stdout",
     "output_type": "stream",
     "text": [
      "2400\n"
     ]
    }
   ],
   "source": [
    "print(len(training_data))"
   ]
  },
  {
   "cell_type": "code",
   "execution_count": 16,
   "id": "ca256435",
   "metadata": {},
   "outputs": [],
   "source": [
    "#zeby siec neuronowa efektywnie sie uczyla, musi randomowo wybierac obrazy\n",
    "\n",
    "import random\n",
    "\n",
    "random.shuffle(training_data)"
   ]
  },
  {
   "cell_type": "code",
   "execution_count": 17,
   "id": "ae439f85",
   "metadata": {},
   "outputs": [
    {
     "name": "stdout",
     "output_type": "stream",
     "text": [
      "0\n",
      "0\n",
      "0\n",
      "0\n",
      "1\n",
      "0\n",
      "0\n",
      "0\n",
      "1\n",
      "1\n",
      "1\n",
      "0\n",
      "0\n",
      "1\n",
      "1\n",
      "0\n",
      "1\n",
      "1\n",
      "1\n",
      "0\n"
     ]
    }
   ],
   "source": [
    "for sample in training_data[:20]:\n",
    "    print(sample[1])"
   ]
  },
  {
   "cell_type": "code",
   "execution_count": 18,
   "id": "696dc0a1",
   "metadata": {},
   "outputs": [],
   "source": [
    "X = [] #feature set\n",
    "y = [] #labels "
   ]
  },
  {
   "cell_type": "code",
   "execution_count": 19,
   "id": "ed989ec0",
   "metadata": {},
   "outputs": [],
   "source": [
    "for features, label in training_data:\n",
    "    X.append(features)\n",
    "    y.append(label)\n",
    "    \n",
    "X = np.array(X).reshape(-1, IMG_SIZE, IMG_SIZE, 1  )\n",
    "y = np.array(y)"
   ]
  },
  {
   "cell_type": "code",
   "execution_count": 20,
   "id": "1b894e3a",
   "metadata": {},
   "outputs": [],
   "source": [
    "#zapisujemy dane\n",
    "import pickle\n",
    "\n",
    "pickle_out = open(\"X.pickle\", \"wb\")\n",
    "pickle.dump(X, pickle_out)\n",
    "pickle_out.close()\n",
    "\n",
    "pickle_out = open(\"y.pickle\", \"wb\")\n",
    "pickle.dump(y, pickle_out)\n",
    "pickle_out.close()"
   ]
  },
  {
   "cell_type": "code",
   "execution_count": 21,
   "id": "35bff3ea",
   "metadata": {},
   "outputs": [],
   "source": [
    "pickle_in = open(\"X.pickle\", \"rb\")\n",
    "X = pickle.load(pickle_in)"
   ]
  },
  {
   "cell_type": "code",
   "execution_count": null,
   "id": "375025f9",
   "metadata": {},
   "outputs": [],
   "source": []
  }
 ],
 "metadata": {
  "kernelspec": {
   "display_name": "Python 3 (ipykernel)",
   "language": "python",
   "name": "python3"
  },
  "language_info": {
   "codemirror_mode": {
    "name": "ipython",
    "version": 3
   },
   "file_extension": ".py",
   "mimetype": "text/x-python",
   "name": "python",
   "nbconvert_exporter": "python",
   "pygments_lexer": "ipython3",
   "version": "3.8.12"
  }
 },
 "nbformat": 4,
 "nbformat_minor": 5
}
